{
 "cells": [
  {
   "cell_type": "markdown",
   "id": "9a8eeff1",
   "metadata": {},
   "source": [
    "# Data Science Capstone Project"
   ]
  },
  {
   "cell_type": "markdown",
   "id": "80d1cd09",
   "metadata": {},
   "source": [
    "## Introduction\n",
    "This notebook will demonstrate various aspects of data science, including languages, libraries, tools, and basic arithmetic operations."
   ]
  },
  {
   "cell_type": "markdown",
   "id": "e04c5859",
   "metadata": {},
   "source": [
    "## Data Science Languages\n",
    "1. Python\n",
    "2. R\n",
    "3. SQL\n",
    "4. Julia\n",
    "5. Java"
   ]
  },
  {
   "cell_type": "markdown",
   "id": "277d5645",
   "metadata": {},
   "source": [
    "## Data Science Libraries\n",
    "1. Pandas\n",
    "2. NumPy\n",
    "3. Matplotlib\n",
    "4. Seaborn\n",
    "5. Scikit-learn\n",
    "6. TensorFlow\n",
    "7. Keras\n",
    "8. PyTorch\n"
   ]
  },
  {
   "cell_type": "markdown",
   "id": "80fdcedf",
   "metadata": {},
   "source": [
    "## Data Science Tools\n",
    "\n",
    "| Tool             | Description                                |\n",
    "|------------------|--------------------------------------------|\n",
    "| Jupyter Notebook | Interactive computing environment          |\n",
    "| RStudio          | Integrated development environment for R   |\n",
    "| Apache Spark     | Distributed data processing engine         |\n",
    "| Tableau          | Data visualization tool                    |\n",
    "| MATLAB           | Numerical computing environment            |\n"
   ]
  },
  {
   "cell_type": "markdown",
   "id": "f1defe5f",
   "metadata": {},
   "source": [
    "## Arithmetic Expression Examples\n",
    "Here are some examples of basic arithmetic operations, such as addition and multiplication."
   ]
  },
  {
   "cell_type": "code",
   "execution_count": 2,
   "id": "52f0c852",
   "metadata": {},
   "outputs": [
    {
     "data": {
      "text/plain": [
       "17"
      ]
     },
     "execution_count": 2,
     "metadata": {},
     "output_type": "execute_result"
    }
   ],
   "source": [
    "# Multiplying and adding numbers\n",
    "result = (3 * 4) + 5\n",
    "result"
   ]
  },
  {
   "cell_type": "code",
   "execution_count": 3,
   "id": "d11a0ff7",
   "metadata": {},
   "outputs": [
    {
     "data": {
      "text/plain": [
       "3.3333333333333335"
      ]
     },
     "execution_count": 3,
     "metadata": {},
     "output_type": "execute_result"
    }
   ],
   "source": [
    "# Converting minutes to hours\n",
    "minutes = 200\n",
    "hours = minutes / 60\n",
    "hours"
   ]
  },
  {
   "cell_type": "markdown",
   "id": "2dfc6b95",
   "metadata": {},
   "source": [
    "## Objectives\n",
    "- Understand the core languages used in data science\n",
    "- Familiarize with popular data science libraries\n",
    "- Learn about various data science tools\n",
    "- Perform basic arithmetic operations in code\n",
    "- Convert units using simple code"
   ]
  },
  {
   "cell_type": "markdown",
   "id": "b42d496e",
   "metadata": {},
   "source": [
    "## Author\n",
    "Swapnil Das"
   ]
  },
  {
   "cell_type": "code",
   "execution_count": null,
   "id": "d812c537",
   "metadata": {},
   "outputs": [],
   "source": []
  }
 ],
 "metadata": {
  "kernelspec": {
   "display_name": "Python 3 (ipykernel)",
   "language": "python",
   "name": "python3"
  },
  "language_info": {
   "codemirror_mode": {
    "name": "ipython",
    "version": 3
   },
   "file_extension": ".py",
   "mimetype": "text/x-python",
   "name": "python",
   "nbconvert_exporter": "python",
   "pygments_lexer": "ipython3",
   "version": "3.10.13"
  }
 },
 "nbformat": 4,
 "nbformat_minor": 5
}
